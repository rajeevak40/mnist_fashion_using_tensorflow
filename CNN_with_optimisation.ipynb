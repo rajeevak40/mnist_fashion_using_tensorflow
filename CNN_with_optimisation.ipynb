{
  "nbformat": 4,
  "nbformat_minor": 0,
  "metadata": {
    "kernelspec": {
      "display_name": "Python 3",
      "language": "python",
      "name": "python3"
    },
    "language_info": {
      "codemirror_mode": {
        "name": "ipython",
        "version": 3
      },
      "file_extension": ".py",
      "mimetype": "text/x-python",
      "name": "python",
      "nbconvert_exporter": "python",
      "pygments_lexer": "ipython3",
      "version": "3.8.5"
    },
    "colab": {
      "name": "CNN_with_optimisation.ipynb",
      "provenance": [],
      "include_colab_link": true
    },
    "accelerator": "GPU"
  },
  "cells": [
    {
      "cell_type": "markdown",
      "metadata": {
        "id": "view-in-github",
        "colab_type": "text"
      },
      "source": [
        "<a href=\"https://colab.research.google.com/github/rajeevak40/mnist_fashion_using_tensorflow/blob/main/CNN_with_optimisation.ipynb\" target=\"_parent\"><img src=\"https://colab.research.google.com/assets/colab-badge.svg\" alt=\"Open In Colab\"/></a>"
      ]
    },
    {
      "cell_type": "code",
      "metadata": {
        "id": "yp-g7FSPCQec"
      },
      "source": [
        "# importing libraries \n",
        "import numpy as np\n",
        "import tensorflow as tf\n",
        "from tensorflow import keras\n",
        "import matplotlib.pyplot as plt\n",
        "from sklearn import preprocessing\n",
        "%matplotlib inline\n"
      ],
      "execution_count": null,
      "outputs": []
    },
    {
      "cell_type": "code",
      "metadata": {
        "colab": {
          "base_uri": "https://localhost:8080/"
        },
        "id": "oPsg63vKDLkS",
        "outputId": "a9a4b696-ee74-4adb-bbd5-579122d9b90b"
      },
      "source": [
        "pip install keras.tuner\n"
      ],
      "execution_count": null,
      "outputs": [
        {
          "output_type": "stream",
          "text": [
            "Collecting keras.tuner\n",
            "\u001b[?25l  Downloading https://files.pythonhosted.org/packages/20/ec/1ef246787174b1e2bb591c95f29d3c1310070cad877824f907faba3dade9/keras-tuner-1.0.2.tar.gz (62kB)\n",
            "\r\u001b[K     |█████▏                          | 10kB 16.3MB/s eta 0:00:01\r\u001b[K     |██████████▍                     | 20kB 20.8MB/s eta 0:00:01\r\u001b[K     |███████████████▋                | 30kB 17.8MB/s eta 0:00:01\r\u001b[K     |████████████████████▉           | 40kB 15.1MB/s eta 0:00:01\r\u001b[K     |██████████████████████████      | 51kB 12.2MB/s eta 0:00:01\r\u001b[K     |███████████████████████████████▎| 61kB 13.8MB/s eta 0:00:01\r\u001b[K     |████████████████████████████████| 71kB 6.2MB/s \n",
            "\u001b[?25hRequirement already satisfied: packaging in /usr/local/lib/python3.7/dist-packages (from keras.tuner) (20.9)\n",
            "Requirement already satisfied: future in /usr/local/lib/python3.7/dist-packages (from keras.tuner) (0.16.0)\n",
            "Requirement already satisfied: numpy in /usr/local/lib/python3.7/dist-packages (from keras.tuner) (1.19.5)\n",
            "Requirement already satisfied: tabulate in /usr/local/lib/python3.7/dist-packages (from keras.tuner) (0.8.9)\n",
            "Collecting terminaltables\n",
            "  Downloading https://files.pythonhosted.org/packages/9b/c4/4a21174f32f8a7e1104798c445dacdc1d4df86f2f26722767034e4de4bff/terminaltables-3.1.0.tar.gz\n",
            "Collecting colorama\n",
            "  Downloading https://files.pythonhosted.org/packages/44/98/5b86278fbbf250d239ae0ecb724f8572af1c91f4a11edf4d36a206189440/colorama-0.4.4-py2.py3-none-any.whl\n",
            "Requirement already satisfied: tqdm in /usr/local/lib/python3.7/dist-packages (from keras.tuner) (4.41.1)\n",
            "Requirement already satisfied: requests in /usr/local/lib/python3.7/dist-packages (from keras.tuner) (2.23.0)\n",
            "Requirement already satisfied: scipy in /usr/local/lib/python3.7/dist-packages (from keras.tuner) (1.4.1)\n",
            "Requirement already satisfied: scikit-learn in /usr/local/lib/python3.7/dist-packages (from keras.tuner) (0.22.2.post1)\n",
            "Requirement already satisfied: pyparsing>=2.0.2 in /usr/local/lib/python3.7/dist-packages (from packaging->keras.tuner) (2.4.7)\n",
            "Requirement already satisfied: urllib3!=1.25.0,!=1.25.1,<1.26,>=1.21.1 in /usr/local/lib/python3.7/dist-packages (from requests->keras.tuner) (1.24.3)\n",
            "Requirement already satisfied: idna<3,>=2.5 in /usr/local/lib/python3.7/dist-packages (from requests->keras.tuner) (2.10)\n",
            "Requirement already satisfied: chardet<4,>=3.0.2 in /usr/local/lib/python3.7/dist-packages (from requests->keras.tuner) (3.0.4)\n",
            "Requirement already satisfied: certifi>=2017.4.17 in /usr/local/lib/python3.7/dist-packages (from requests->keras.tuner) (2020.12.5)\n",
            "Requirement already satisfied: joblib>=0.11 in /usr/local/lib/python3.7/dist-packages (from scikit-learn->keras.tuner) (1.0.1)\n",
            "Building wheels for collected packages: keras.tuner, terminaltables\n",
            "  Building wheel for keras.tuner (setup.py) ... \u001b[?25l\u001b[?25hdone\n",
            "  Created wheel for keras.tuner: filename=keras_tuner-1.0.2-cp37-none-any.whl size=78938 sha256=db5b5a4cd59ec3064d3955b56b9150d9a4970d9a9f1b0b621cedd7fda3693452\n",
            "  Stored in directory: /root/.cache/pip/wheels/bb/a1/8a/7c3de0efb3707a1701b36ebbfdbc4e67aedf6d4943a1f463d6\n",
            "  Building wheel for terminaltables (setup.py) ... \u001b[?25l\u001b[?25hdone\n",
            "  Created wheel for terminaltables: filename=terminaltables-3.1.0-cp37-none-any.whl size=15356 sha256=ec78b1e1b9abfbd8e2e6e3e3dcafe33d38890cd1da5ed015cf24b95c9ab1ca8e\n",
            "  Stored in directory: /root/.cache/pip/wheels/30/6b/50/6c75775b681fb36cdfac7f19799888ef9d8813aff9e379663e\n",
            "Successfully built keras.tuner terminaltables\n",
            "Installing collected packages: terminaltables, colorama, keras.tuner\n",
            "Successfully installed colorama-0.4.4 keras.tuner terminaltables-3.1.0\n"
          ],
          "name": "stdout"
        }
      ]
    },
    {
      "cell_type": "code",
      "metadata": {
        "colab": {
          "base_uri": "https://localhost:8080/"
        },
        "id": "_wN5AR3ZCQeo",
        "outputId": "c1634917-5e84-46c6-87e0-3dc043c69e6e"
      },
      "source": [
        "# Loading Data\n",
        "data= keras.datasets.fashion_mnist\n",
        "(x_train, y_train), (x_test, y_test)= data.load_data()"
      ],
      "execution_count": null,
      "outputs": [
        {
          "output_type": "stream",
          "text": [
            "Downloading data from https://storage.googleapis.com/tensorflow/tf-keras-datasets/train-labels-idx1-ubyte.gz\n",
            "32768/29515 [=================================] - 0s 0us/step\n",
            "Downloading data from https://storage.googleapis.com/tensorflow/tf-keras-datasets/train-images-idx3-ubyte.gz\n",
            "26427392/26421880 [==============================] - 0s 0us/step\n",
            "Downloading data from https://storage.googleapis.com/tensorflow/tf-keras-datasets/t10k-labels-idx1-ubyte.gz\n",
            "8192/5148 [===============================================] - 0s 0us/step\n",
            "Downloading data from https://storage.googleapis.com/tensorflow/tf-keras-datasets/t10k-images-idx3-ubyte.gz\n",
            "4423680/4422102 [==============================] - 0s 0us/step\n"
          ],
          "name": "stdout"
        }
      ]
    },
    {
      "cell_type": "code",
      "metadata": {
        "id": "CNt1kX4lCQeu"
      },
      "source": [
        "# Scaling data set\n",
        "# RGB values are in range of 0-255 hence scaling it by deviding it with 255\n",
        "x_train_scale= x_train/255\n",
        "x_test_scale = x_test/255"
      ],
      "execution_count": null,
      "outputs": []
    },
    {
      "cell_type": "code",
      "metadata": {
        "colab": {
          "base_uri": "https://localhost:8080/"
        },
        "id": "gqH0-nsUCQeu",
        "outputId": "47f89260-f2b8-4376-cc63-1a9041ded5f4"
      },
      "source": [
        "x_train_scale.shape"
      ],
      "execution_count": null,
      "outputs": [
        {
          "output_type": "execute_result",
          "data": {
            "text/plain": [
              "(60000, 28, 28)"
            ]
          },
          "metadata": {
            "tags": []
          },
          "execution_count": 5
        }
      ]
    },
    {
      "cell_type": "code",
      "metadata": {
        "scrolled": true,
        "id": "8fkfiD4tCQew"
      },
      "source": [
        "x_train_scale= x_train_scale.reshape(len(x_train_scale),28,28,1)\n",
        "x_test_scale= x_test_scale.reshape(len(x_test_scale),28,28,1)\n"
      ],
      "execution_count": null,
      "outputs": []
    },
    {
      "cell_type": "markdown",
      "metadata": {
        "id": "mMZYzM8tkwSF"
      },
      "source": [
        ""
      ]
    },
    {
      "cell_type": "code",
      "metadata": {
        "colab": {
          "base_uri": "https://localhost:8080/"
        },
        "id": "l-LU_O3pCQew",
        "outputId": "e6975a43-e60c-43d6-a62e-2536a8126d06"
      },
      "source": [
        "x_train_scale.shape"
      ],
      "execution_count": null,
      "outputs": [
        {
          "output_type": "execute_result",
          "data": {
            "text/plain": [
              "(60000, 28, 28, 1)"
            ]
          },
          "metadata": {
            "tags": []
          },
          "execution_count": 7
        }
      ]
    },
    {
      "cell_type": "code",
      "metadata": {
        "id": "EUdFPwoQCQex"
      },
      "source": [
        ""
      ],
      "execution_count": null,
      "outputs": []
    },
    {
      "cell_type": "code",
      "metadata": {
        "id": "f0CwnNj8CQex"
      },
      "source": [
        "def build_model(hp):\n",
        "    model = keras.Sequential([\n",
        "    keras.layers.Conv2D( filters = hp.Int('filter1', min_value=32, max_value= 164, step=16), \n",
        "                        kernel_size=hp.Choice('kernal1', values=[3, 5,10]), \n",
        "                        activation ='relu', \n",
        "                        input_shape=(28,28,1)),\n",
        "    keras.layers.Conv2D( filters = hp.Int('filter2', min_value=32, max_value= 64, step=8), \n",
        "                        kernel_size=hp.Choice('kernal1', values=[3, 5,10]), \n",
        "                        activation ='relu'),\n",
        "    keras.layers.Flatten(),\n",
        "    keras.layers.Dense(units= hp.Int('dense_1', min_value=32, max_value= 128, step=16), activation= 'relu'),\n",
        "    keras.layers.Dense(units= hp.Int('dense_2', min_value=32, max_value= 64, step=16), activation= 'relu'),\n",
        "    keras.layers.Dense(10, activation= 'softmax')\n",
        "    ])\n",
        "    \n",
        "    model.compile(optimizer=keras.optimizers.Adam(hp.Choice('leraning_rate', values=[1e-2, 1e-3])), \n",
        "                  loss='sparse_categorical_crossentropy' , \n",
        "                  metrics=['accuracy'])\n",
        "    \n",
        "    return model"
      ],
      "execution_count": null,
      "outputs": []
    },
    {
      "cell_type": "code",
      "metadata": {
        "id": "RzkAX9nZCQey"
      },
      "source": [
        "from kerastuner import RandomSearch\n",
        "from kerastuner.engine.hyperparameters import HyperParameters"
      ],
      "execution_count": null,
      "outputs": []
    },
    {
      "cell_type": "code",
      "metadata": {
        "id": "JgViJHbQCQey"
      },
      "source": [
        "# Tuner search\n",
        "tuner_search = RandomSearch(build_model, objective='val_accuracy', \n",
        "                            max_trials=5, directory='output', project_name='Minst_Fashion')"
      ],
      "execution_count": null,
      "outputs": []
    },
    {
      "cell_type": "code",
      "metadata": {
        "colab": {
          "base_uri": "https://localhost:8080/"
        },
        "id": "U45Hs6dtCQey",
        "outputId": "cdcfa9f7-60d2-4a05-d550-3d5acf27eda6"
      },
      "source": [
        "tuner_search.search(x_train_scale, y_train, epochs=3, validation_split=0.1)"
      ],
      "execution_count": null,
      "outputs": [
        {
          "output_type": "stream",
          "text": [
            "Trial 5 Complete [00h 00m 42s]\n",
            "val_accuracy: 0.7883333563804626\n",
            "\n",
            "Best val_accuracy So Far: 0.906000018119812\n",
            "Total elapsed time: 00h 04m 01s\n",
            "INFO:tensorflow:Oracle triggered exit\n"
          ],
          "name": "stdout"
        }
      ]
    },
    {
      "cell_type": "code",
      "metadata": {
        "scrolled": true,
        "id": "DAV2xVY0CQez"
      },
      "source": [
        "model=tuner_search.get_best_models(num_models=1)[0]\n"
      ],
      "execution_count": null,
      "outputs": []
    },
    {
      "cell_type": "code",
      "metadata": {
        "colab": {
          "base_uri": "https://localhost:8080/"
        },
        "id": "h3AHfmpRCQez",
        "outputId": "69744d73-d1f3-4fa9-810a-db712fc1328d"
      },
      "source": [
        "model.summary()"
      ],
      "execution_count": null,
      "outputs": [
        {
          "output_type": "stream",
          "text": [
            "Model: \"sequential\"\n",
            "_________________________________________________________________\n",
            "Layer (type)                 Output Shape              Param #   \n",
            "=================================================================\n",
            "conv2d (Conv2D)              (None, 26, 26, 64)        640       \n",
            "_________________________________________________________________\n",
            "conv2d_1 (Conv2D)            (None, 24, 24, 48)        27696     \n",
            "_________________________________________________________________\n",
            "flatten (Flatten)            (None, 27648)             0         \n",
            "_________________________________________________________________\n",
            "dense (Dense)                (None, 32)                884768    \n",
            "_________________________________________________________________\n",
            "dense_1 (Dense)              (None, 32)                1056      \n",
            "_________________________________________________________________\n",
            "dense_2 (Dense)              (None, 10)                330       \n",
            "=================================================================\n",
            "Total params: 914,490\n",
            "Trainable params: 914,490\n",
            "Non-trainable params: 0\n",
            "_________________________________________________________________\n"
          ],
          "name": "stdout"
        }
      ]
    },
    {
      "cell_type": "code",
      "metadata": {
        "colab": {
          "base_uri": "https://localhost:8080/"
        },
        "id": "RvHNyQiACQez",
        "outputId": "97411a39-1449-4680-fd6b-d793ed9c1dff"
      },
      "source": [
        "model.fit(x_test_scale, y_train, epochs=10, validation_split=0.1, initial_epoch=3)"
      ],
      "execution_count": null,
      "outputs": [
        {
          "output_type": "stream",
          "text": [
            "Epoch 4/10\n",
            "282/282 [==============================] - 3s 10ms/step - loss: 2.6141 - accuracy: 0.0952 - val_loss: 2.3027 - val_accuracy: 0.1020\n",
            "Epoch 5/10\n",
            "282/282 [==============================] - 2s 8ms/step - loss: 2.3026 - accuracy: 0.1025 - val_loss: 2.3031 - val_accuracy: 0.1020\n",
            "Epoch 6/10\n",
            "282/282 [==============================] - 2s 8ms/step - loss: 2.3024 - accuracy: 0.0991 - val_loss: 2.3032 - val_accuracy: 0.0900\n",
            "Epoch 7/10\n",
            "282/282 [==============================] - 2s 8ms/step - loss: 2.3024 - accuracy: 0.0977 - val_loss: 2.3032 - val_accuracy: 0.0900\n",
            "Epoch 8/10\n",
            "282/282 [==============================] - 2s 8ms/step - loss: 2.3026 - accuracy: 0.0976 - val_loss: 2.3034 - val_accuracy: 0.0900\n",
            "Epoch 9/10\n",
            "282/282 [==============================] - 2s 8ms/step - loss: 2.3025 - accuracy: 0.1002 - val_loss: 2.3034 - val_accuracy: 0.0900\n",
            "Epoch 10/10\n",
            "282/282 [==============================] - 2s 8ms/step - loss: 2.3024 - accuracy: 0.1021 - val_loss: 2.3032 - val_accuracy: 0.0900\n"
          ],
          "name": "stdout"
        },
        {
          "output_type": "execute_result",
          "data": {
            "text/plain": [
              "<tensorflow.python.keras.callbacks.History at 0x7f10396ddbd0>"
            ]
          },
          "metadata": {
            "tags": []
          },
          "execution_count": 18
        }
      ]
    },
    {
      "cell_type": "code",
      "metadata": {
        "id": "aOahg2noCQe0"
      },
      "source": [
        ""
      ],
      "execution_count": null,
      "outputs": []
    }
  ]
}